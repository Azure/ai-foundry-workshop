{
 "cells": [
  {
   "cell_type": "markdown",
   "id": "118f23c1",
   "metadata": {},
   "source": [
    "# Test Notebook\n",
    "This is a test notebook to verify the Jupyter environment.\n",
    "\n",
    "## Testing Azure Packages\n",
    "```python\n",
    "from azure.identity import DefaultAzureCredential\n",
    "from azure.ai.resources import AIProjectClient\n",
    "from azure.ai.evaluation import EvaluationClient\n",
    "\n",
    "print('Azure packages imported successfully!')\n",
    "```\n"
   ]
  }
 ],
 "metadata": {},
 "nbformat": 4,
 "nbformat_minor": 5
}
