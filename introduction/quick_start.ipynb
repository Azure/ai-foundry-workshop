{
 "cells": [
  {
   "cell_type": "markdown",
   "id": "c2e86a0d",
   "metadata": {},
   "source": [
    "# Quick Start Guide - Azure AI Foundry\n",
    "\n",
    "This notebook provides a hands-on introduction to Azure AI Foundry. You'll learn how to:\n",
    "1. Initialize the AI Project client\n",
    "2. List available models\n",
    "3. Create a simple completion request\n",
    "4. Handle basic error scenarios\n",
    "\n",
    "## Prerequisites\n",
    "- Completed environment setup from previous notebook\n",
    "- Azure credentials configured"
   ]
  },
  {
   "cell_type": "code",
   "execution_count": null,
   "id": "b1a355de",
   "metadata": {},
   "outputs": [],
   "source": [
    "# Import required libraries\n",
    "from azure.identity import DefaultAzureCredential\n",
    "from azure.ai.resources import AIProjectClient\n",
    "import os\n",
    "import json\n",
    "\n",
    "# Initialize credentials\n",
    "credential = DefaultAzureCredential()"
   ]
  },
  {
   "cell_type": "markdown",
   "id": "bd18d4ef",
   "metadata": {},
   "source": [
    "## Initialize AI Project Client\n",
    "First, let's create our client instance:"
   ]
  },
  {
   "cell_type": "code",
   "execution_count": null,
   "id": "c1b96006",
   "metadata": {},
   "outputs": [],
   "source": [
    "# Create AI Project client\n",
    "try:\n",
    "    client = AIProjectClient(\n",
    "        subscription_id=os.getenv(\"AZURE_SUBSCRIPTION_ID\"),\n",
    "        resource_group=os.getenv(\"AZURE_RESOURCE_GROUP\"),\n",
    "        credential=credential\n",
    "    )\n",
    "    print(\"✓ Successfully initialized AIProjectClient\")\n",
    "except Exception as e:\n",
    "    print(f\"× Error initializing client: {str(e)}\")"
   ]
  },
  {
   "cell_type": "markdown",
   "id": "2a896cc9",
   "metadata": {},
   "source": [
    "## List Available Models\n",
    "Let's see what models are available to us:"
   ]
  },
  {
   "cell_type": "code",
   "execution_count": null,
   "id": "00ba3532",
   "metadata": {},
   "outputs": [],
   "source": [
    "# List models\n",
    "try:\n",
    "    models = list(client.models.list())\n",
    "    print(f\"Found {len(models)} models:\")\n",
    "    for model in models:\n",
    "        print(f\"- {model.name}\")\n",
    "except Exception as e:\n",
    "    print(f\"× Error listing models: {str(e)}\")"
   ]
  },
  {
   "cell_type": "markdown",
   "id": "8d77e602",
   "metadata": {},
   "source": [
    "## Create a Simple Completion\n",
    "Let's try a basic completion request:"
   ]
  },
  {
   "cell_type": "code",
   "execution_count": null,
   "id": "3774ed1e",
   "metadata": {},
   "outputs": [],
   "source": [
    "# Test completion\n",
    "try:\n",
    "    response = client.models.generate(\n",
    "        deployment_name=\"customer-service-v1\",  # Update with your deployment name\n",
    "        prompt=\"How can I help you with your account today?\",\n",
    "        max_tokens=100\n",
    "    )\n",
    "    print(\"Response:\", response)\n",
    "except Exception as e:\n",
    "    print(f\"× Error generating completion: {str(e)}\")"
   ]
  },
  {
   "cell_type": "markdown",
   "id": "0e98675a",
   "metadata": {},
   "source": [
    "## Error Handling Example\n",
    "Let's see how to handle a common error scenario:"
   ]
  },
  {
   "cell_type": "code",
   "execution_count": null,
   "id": "b127a25c",
   "metadata": {},
   "outputs": [],
   "source": [
    "# Test error handling\n",
    "try:\n",
    "    # Intentionally use invalid deployment name\n",
    "    response = client.models.generate(\n",
    "        deployment_name=\"non-existent-model\",\n",
    "        prompt=\"This should fail gracefully\",\n",
    "        max_tokens=100\n",
    "    )\n",
    "except Exception as e:\n",
    "    print(\"Expected error caught successfully:\")\n",
    "    print(f\"Error type: {type(e).__name__}\")\n",
    "    print(f\"Error message: {str(e)}\")"
   ]
  },
  {
   "cell_type": "markdown",
   "id": "898e255f",
   "metadata": {},
   "source": [
    "## Next Steps\n",
    "- Explore more advanced model configurations\n",
    "- Try different prompt types\n",
    "- Implement retry logic for robustness\n",
    "- Add logging for production use"
   ]
  }
 ],
 "metadata": {},
 "nbformat": 4,
 "nbformat_minor": 5
}
