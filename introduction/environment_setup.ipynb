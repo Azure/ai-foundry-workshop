{
 "cells": [
  {
   "cell_type": "markdown",
   "id": "ff53b1e0",
   "metadata": {},
   "source": [
    "# Environment Setup for Azure AI Foundry Workshop\n",
    "\n",
    "This notebook will guide you through setting up your environment for the Azure AI Foundry workshop.\n",
    "\n",
    "## Prerequisites\n",
    "- Python 3.8 or later\n",
    "- Azure subscription with AI services access\n",
    "- Basic Python knowledge"
   ]
  },
  {
   "cell_type": "code",
   "execution_count": null,
   "id": "32f4ec2a",
   "metadata": {},
   "outputs": [],
   "source": [
    "# Install required packages\n",
    "!pip install azure-identity azure-ai-resources azure-ai-evaluation"
   ]
  },
  {
   "cell_type": "markdown",
   "id": "5a108d90",
   "metadata": {},
   "source": [
    "## Azure Authentication Setup\n",
    "First, we'll verify our Azure credentials and setup."
   ]
  },
  {
   "cell_type": "code",
   "execution_count": null,
   "id": "714b5791",
   "metadata": {},
   "outputs": [],
   "source": [
    "from azure.identity import DefaultAzureCredential\n",
    "from azure.ai.resources import AIProjectClient\n",
    "import os\n",
    "\n",
    "# Initialize Azure credentials\n",
    "try:\n",
    "    credential = DefaultAzureCredential()\n",
    "    print(\"✓ Successfully initialized DefaultAzureCredential\")\n",
    "except Exception as e:\n",
    "    print(f\"× Error initializing credentials: {str(e)}\")"
   ]
  },
  {
   "cell_type": "markdown",
   "id": "87e22718",
   "metadata": {},
   "source": [
    "## Initialize AI Project Client\n",
    "Now we'll create an AI Project client to interact with Azure AI services."
   ]
  },
  {
   "cell_type": "code",
   "execution_count": null,
   "id": "2ac8b2fd",
   "metadata": {},
   "outputs": [],
   "source": [
    "# Initialize AI Project Client\n",
    "try:\n",
    "    client = AIProjectClient(\n",
    "        subscription_id=os.getenv(\"AZURE_SUBSCRIPTION_ID\"),\n",
    "        resource_group=os.getenv(\"AZURE_RESOURCE_GROUP\"),\n",
    "        credential=credential\n",
    "    )\n",
    "    print(\"✓ Successfully initialized AIProjectClient\")\n",
    "except Exception as e:\n",
    "    print(f\"× Error initializing client: {str(e)}\")"
   ]
  },
  {
   "cell_type": "markdown",
   "id": "10962ac9",
   "metadata": {},
   "source": [
    "## Verify Access to Models\n",
    "Finally, let's verify we can access the available models."
   ]
  },
  {
   "cell_type": "code",
   "execution_count": null,
   "id": "1fff9d11",
   "metadata": {},
   "outputs": [],
   "source": [
    "# List available models\n",
    "try:\n",
    "    models = client.models.list()\n",
    "    print(f\"✓ Successfully retrieved {len(list(models))} models\")\n",
    "except Exception as e:\n",
    "    print(f\"× Error listing models: {str(e)}\")"
   ]
  }
 ],
 "metadata": {},
 "nbformat": 4,
 "nbformat_minor": 5
}
