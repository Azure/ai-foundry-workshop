{
 "cells": [
  {
   "cell_type": "markdown",
   "id": "1d0d278d",
   "metadata": {},
   "source": [
    "# Project Setup for Azure AI Foundry\n",
    "\n",
    "This notebook guides you through setting up an AI project in Azure AI Foundry. You'll learn:\n",
    "1. Creating a new AI project\n",
    "2. Configuring project settings\n",
    "3. Managing project resources\n",
    "4. Best practices for project organization\n",
    "\n",
    "## Prerequisites\n",
    "- Completed authentication setup from previous notebook\n",
    "- Azure AI Foundry access\n",
    "- Required Python packages installed"
   ]
  },
  {
   "cell_type": "code",
   "execution_count": null,
   "id": "b933094e",
   "metadata": {},
   "outputs": [],
   "source": [
    "# Set up environment variables for local testing\n",
    "import os\n",
    "\n",
    "# Check for required environment variables\n",
    "required_vars = {\n",
    "    \"AZURE_SUBSCRIPTION_ID\": os.getenv(\"AZURE_SUBSCRIPTION_ID\"),\n",
    "    \"AZURE_RESOURCE_GROUP\": os.getenv(\"AZURE_RESOURCE_GROUP\"),\n",
    "    \"AZURE_TENANT_ID\": os.getenv(\"AZURE_TENANT_ID\"),\n",
    "    \"AZURE_CLIENT_ID\": os.getenv(\"AZURE_CLIENT_ID\"),\n",
    "    \"AZURE_CLIENT_SECRET\": os.getenv(\"AZURE_CLIENT_SECRET\")\n",
    "}\n",
    "\n",
    "# Check which variables are missing\n",
    "missing_vars = [var for var, value in required_vars.items() if not value]\n",
    "\n",
    "if missing_vars:\n",
    "    print(\"× Missing required environment variables:\")\n",
    "    for var in missing_vars:\n",
    "        print(f\"  - {var}\")\n",
    "    print(\"\\nPlease set these variables before running the notebook:\")\n",
    "    print(\"```bash\")\n",
    "    print(\"export AZURE_SUBSCRIPTION_ID='your-subscription-id'\")\n",
    "    print(\"export AZURE_RESOURCE_GROUP='your-resource-group'\")\n",
    "    print(\"export AZURE_TENANT_ID='your-tenant-id'\")\n",
    "    print(\"export AZURE_CLIENT_ID='your-client-id'\")\n",
    "    print(\"export AZURE_CLIENT_SECRET='your-client-secret'\")\n",
    "    print(\"```\")\n",
    "else:\n",
    "    print(\"✓ All required environment variables are set\")"
   ]
  },
  {
   "cell_type": "code",
   "execution_count": null,
   "id": "22a21356",
   "metadata": {},
   "outputs": [],
   "source": [
    "# Import required libraries\n",
    "from azure.identity import DefaultAzureCredential\n",
    "from azure.ai.projects import AIProjectClient\n",
    "from azure.ai.inference import InferenceClient, ChatCompletionsClient\n",
    "from azure.ai.evaluation import EvaluationClient, TextEvaluator\n",
    "from azure.ai.contentsafety import ContentSafetyClient\n",
    "import azure.monitor.opentelemetry._autoinstrument\n",
    "import os\n",
    "import json\n",
    "\n",
    "# Initialize credentials\n",
    "try:\n",
    "    credential = DefaultAzureCredential()\n",
    "    print(\"✓ Successfully initialized DefaultAzureCredential\")\n",
    "except Exception as e:\n",
    "    print(f\"× Error initializing credentials: {str(e)}\")"
   ]
  },
  {
   "cell_type": "markdown",
   "id": "d7f6b255",
   "metadata": {},
   "source": [
    "## Initialize AI Project Client\n",
    "First, let's create our client instance using the credentials we set up:"
   ]
  },
  {
   "cell_type": "code",
   "execution_count": null,
   "id": "c855503e",
   "metadata": {},
   "outputs": [],
   "source": [
    "# Create AI Project client\n",
    "try:\n",
    "    client = AIProjectClient(\n",
    "        subscription_id=os.getenv(\"AZURE_SUBSCRIPTION_ID\"),\n",
    "        resource_group=os.getenv(\"AZURE_RESOURCE_GROUP\"),\n",
    "        credential=credential\n",
    "    )\n",
    "    print(\"✓ Successfully initialized AIProjectClient\")\n",
    "except Exception as e:\n",
    "    print(f\"× Error initializing client: {str(e)}\")"
   ]
  },
  {
   "cell_type": "markdown",
   "id": "8d32ef91",
   "metadata": {},
   "source": [
    "## Create a New Project\n",
    "Let's create a customer service AI project:"
   ]
  },
  {
   "cell_type": "code",
   "execution_count": null,
   "id": "9004c9ee",
   "metadata": {},
   "outputs": [],
   "source": [
    "def create_project(name=\"customer-service-agent\", description=\"AI-powered customer service agent\"):\n",
    "    \"\"\"Create a new AI Foundry project.\"\"\"\n",
    "    try:\n",
    "        project = client.projects.create(\n",
    "            name=name,\n",
    "            description=description,\n",
    "            tags={\n",
    "                \"environment\": \"development\",\n",
    "                \"purpose\": \"customer-service\",\n",
    "                \"workshop\": \"true\"\n",
    "            }\n",
    "        )\n",
    "        print(f\"✓ Successfully created project: {project.name}\")\n",
    "        return project\n",
    "    except Exception as e:\n",
    "        print(f\"× Error creating project: {str(e)}\")\n",
    "        return None\n",
    "\n",
    "# Create the project\n",
    "project = create_project()"
   ]
  },
  {
   "cell_type": "markdown",
   "id": "034d4cf8",
   "metadata": {},
   "source": [
    "## Project Configuration\n",
    "Configure project settings and resources:"
   ]
  },
  {
   "cell_type": "code",
   "execution_count": null,
   "id": "67a153f0",
   "metadata": {},
   "outputs": [],
   "source": [
    "def configure_project(project):\n",
    "    \"\"\"Configure project settings.\"\"\"\n",
    "    if not project:\n",
    "        print(\"× No project to configure\")\n",
    "        return\n",
    "    \n",
    "    try:\n",
    "        # Update project settings\n",
    "        project = client.projects.update(\n",
    "            project_name=project.name,\n",
    "            settings={\n",
    "                \"deployment\": {\n",
    "                    \"environment\": \"development\",\n",
    "                    \"region\": \"eastus\",\n",
    "                    \"sku\": \"standard\"\n",
    "                },\n",
    "                \"monitoring\": {\n",
    "                    \"metrics_enabled\": True,\n",
    "                    \"logging_level\": \"INFO\"\n",
    "                }\n",
    "            }\n",
    "        )\n",
    "        print(\"✓ Successfully configured project settings\")\n",
    "    except Exception as e:\n",
    "        print(f\"× Error configuring project: {str(e)}\")\n",
    "\n",
    "# Configure the project\n",
    "configure_project(project)"
   ]
  },
  {
   "cell_type": "markdown",
   "id": "2e0336e9",
   "metadata": {},
   "source": [
    "## List Project Resources\n",
    "View the resources associated with your project:"
   ]
  },
  {
   "cell_type": "code",
   "execution_count": null,
   "id": "fcf85b68",
   "metadata": {},
   "outputs": [],
   "source": [
    "def list_project_resources(project_name):\n",
    "    \"\"\"List resources in the project.\"\"\"\n",
    "    try:\n",
    "        resources = client.projects.list_resources(project_name=project_name)\n",
    "        print(\"\n",
    "Project Resources:\")\n",
    "        for resource in resources:\n",
    "            print(f\"- {resource.name} ({resource.type})\")\n",
    "    except Exception as e:\n",
    "        print(f\"× Error listing resources: {str(e)}\")\n",
    "\n",
    "# List resources if project was created\n",
    "if project:\n",
    "    list_project_resources(project.name)"
   ]
  },
  {
   "cell_type": "markdown",
   "id": "bab14b85",
   "metadata": {},
   "source": [
    "## Project Organization Best Practices\n",
    "\n",
    "1. **Naming Conventions**\n",
    "   - Use descriptive, lowercase names\n",
    "   - Include environment indicator\n",
    "   - Add purpose/function identifier\n",
    "\n",
    "2. **Resource Management**\n",
    "   - Group related resources\n",
    "   - Use consistent tagging\n",
    "   - Regular cleanup of unused resources\n",
    "\n",
    "3. **Access Control**\n",
    "   - Implement role-based access\n",
    "   - Regular permission reviews\n",
    "   - Audit access logs"
   ]
  },
  {
   "cell_type": "code",
   "execution_count": null,
   "id": "dd3b6264",
   "metadata": {},
   "outputs": [],
   "source": [
    "def apply_best_practices(project):\n",
    "    \"\"\"Apply best practices to project.\"\"\"\n",
    "    if not project:\n",
    "        print(\"× No project to configure\")\n",
    "        return\n",
    "    \n",
    "    try:\n",
    "        # Update project with best practice configurations\n",
    "        project = client.projects.update(\n",
    "            project_name=project.name,\n",
    "            tags={\n",
    "                \"owner\": \"workshop-participant\",\n",
    "                \"cost-center\": \"training\",\n",
    "                \"environment\": \"development\",\n",
    "                \"purpose\": \"customer-service\",\n",
    "                \"created-date\": \"2024-01\",\n",
    "                \"cleanup-after\": \"2024-02\"\n",
    "            }\n",
    "        )\n",
    "        print(\"✓ Successfully applied best practices\")\n",
    "        \n",
    "        # Display project details\n",
    "        print(\"\n",
    "Project Configuration:\")\n",
    "        print(f\"Name: {project.name}\")\n",
    "        print(f\"Description: {project.description}\")\n",
    "        print(\"Tags:\")\n",
    "        for key, value in project.tags.items():\n",
    "            print(f\"  {key}: {value}\")\n",
    "            \n",
    "    except Exception as e:\n",
    "        print(f\"× Error applying best practices: {str(e)}\")\n",
    "\n",
    "# Apply best practices\n",
    "if project:\n",
    "    apply_best_practices(project)"
   ]
  },
  {
   "cell_type": "markdown",
   "id": "a71f2f08",
   "metadata": {},
   "source": [
    "## Cleanup (Optional)\n",
    "If you want to remove the project:"
   ]
  },
  {
   "cell_type": "code",
   "execution_count": null,
   "id": "95439f2d",
   "metadata": {},
   "outputs": [],
   "source": [
    "def cleanup_project(project_name):\n",
    "    \"\"\"Delete the project and associated resources.\"\"\"\n",
    "    try:\n",
    "        client.projects.delete(project_name=project_name)\n",
    "        print(f\"✓ Successfully deleted project: {project_name}\")\n",
    "    except Exception as e:\n",
    "        print(f\"× Error deleting project: {str(e)}\")\n",
    "\n",
    "# Uncomment to cleanup (careful!)\n",
    "# if project:\n",
    "#     cleanup_project(project.name)"
   ]
  },
  {
   "cell_type": "markdown",
   "id": "86d23c40",
   "metadata": {},
   "source": [
    "## Next Steps\n",
    "- Deploy models to your project\n",
    "- Configure endpoints\n",
    "- Set up monitoring\n",
    "- Implement the customer service agent\n",
    "\n",
    "Remember to clean up resources if you're done with the workshop!"
   ]
  }
 ],
 "metadata": {},
 "nbformat": 4,
 "nbformat_minor": 5
}
