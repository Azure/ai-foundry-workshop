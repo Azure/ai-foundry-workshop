{
 "cells": [
  {
   "cell_type": "markdown",
   "id": "79d08cf6",
   "metadata": {},
   "source": [
    "# Basic Health Advisor Agent Tutorial\n",
    "\n",
    "This notebook demonstrates how to create a basic health advisor agent using Azure AI Foundry. You'll learn:\n",
    "1. Setting up a health advisor agent with proper medical disclaimers\n",
    "2. Managing health-related conversations safely\n",
    "3. Handling fitness and wellness queries\n",
    "4. Implementing safety measures and professional referrals\n",
    "\n",
    "## Prerequisites\n",
    "- Azure subscription with AI services access\n",
    "- Python environment with required packages\n",
    "- Basic understanding of Azure AI concepts\n",
    "\n",
    "## Important Medical Disclaimer\n",
    "The health information provided by this agent is for general educational purposes only and is not intended as a substitute for professional medical advice, diagnosis, or treatment. Always seek the advice of your physician or other qualified health provider with any questions you may have regarding a medical condition. Never disregard professional medical advice or delay in seeking it because of something you have read or received from this agent.\n",
    "\n",
    "## Professional Consultation\n",
    "- Always consult healthcare professionals for medical advice\n",
    "- This agent provides general wellness information only\n",
    "- For specific medical conditions, consult your doctor\n",
    "- In case of emergency, contact emergency services immediately"
   ]
  },
  {
   "cell_type": "code",
   "execution_count": null,
   "id": "5ba3ae72",
   "metadata": {},
   "outputs": [],
   "source": [
    "# Import required libraries\n",
    "from azure.identity import DefaultAzureCredential\n",
    "from azure.ai.projects import AIProjectClient\n",
    "from azure.ai.projects.models import MessageTextContent\n",
    "import os\n",
    "from dotenv import load_dotenv\n",
    "import time\n",
    "from pathlib import Path\n",
    "\n",
    "# Load environment variables from parent directory's .env file\n",
    "notebook_path = Path().absolute()  # Gets current working directory\n",
    "parent_dir = notebook_path.parent\n",
    "load_dotenv(parent_dir / '.env')\n",
    "\n",
    "# Initialize client\n",
    "try:\n",
    "    project_client = AIProjectClient.from_connection_string(\n",
    "        credential=DefaultAzureCredential(),\n",
    "        conn_str=os.getenv(\"PROJECT_CONNECTION_STRING\"),\n",
    "    )\n",
    "    print(\"✓ Successfully initialized AIProjectClient\")\n",
    "except Exception as e:\n",
    "    print(f\"× Error initializing client: {str(e)}\")"
   ]
  },
  {
   "cell_type": "markdown",
   "id": "f8a35f5f",
   "metadata": {},
   "source": [
    "## Creating a Health Advisor Agent\n",
    "\n",
    "Let's create an agent specialized in providing health and dietary advice:"
   ]
  },
  {
   "cell_type": "code",
   "execution_count": null,
   "id": "194eceb1",
   "metadata": {},
   "outputs": [],
   "source": [
    "def create_health_advisor():\n",
    "    \"\"\"Create a health advisor agent with appropriate instructions.\"\"\"\n",
    "    try:\n",
    "        agent = project_client.agents.create_agent(\n",
    "            model=os.environ[\"MODEL_DEPLOYMENT_NAME\"],\n",
    "            name=\"health-advisor\",\n",
    "            instructions='''You are a knowledgeable health advisor focused on wellness and fitness. Important guidelines:\n",
    "                        1. Always begin responses with appropriate medical disclaimers\n",
    "                        2. Explicitly recommend consulting healthcare professionals for medical advice\n",
    "                        3. Be specific about health conditions, allergies, and restrictions\n",
    "                        4. Provide evidence-based nutritional and fitness guidance\n",
    "                        5. Clearly explain health metrics (BMI, heart rate zones, etc.)\n",
    "                        6. Emphasize the importance of professional medical consultation\n",
    "                        7. Never provide specific medical diagnoses or treatment plans\n",
    "                        8. Focus on general wellness, fitness, and healthy lifestyle choices'''\n",
    "                        \n",
    "                # Example health queries\n",
    "                example_queries = [\n",
    "                    \"How do I calculate my BMI and what does it mean?\",\n",
    "                    \"What's a balanced meal plan for an active lifestyle?\",\n",
    "                    \"Can you explain heart rate zones for cardio training?\"\n",
    "                ]\n",
    "                \n",
    "                # Example responses should include:\n",
    "                example_response = '''\n",
    "                Important Medical Disclaimer: This information is for educational purposes only.\n",
    "                Please consult your healthcare provider before starting any diet or exercise program.\n",
    "                \n",
    "                Regarding BMI calculation:\n",
    "                1. BMI Formula: weight(kg) / height(m)²\n",
    "                2. Categories: Underweight (<18.5), Normal (18.5-24.9), Overweight (25-29.9), Obese (>30)\n",
    "                3. Important: BMI is just one metric and should be evaluated by healthcare professionals\n",
    "                \n",
    "                For personalized advice on weight management or fitness programs,\n",
    "                please consult with your doctor or a certified fitness professional.'''\n",
    "                        6. Emphasize the importance of professional medical consultation\n",
    "                        7. Never provide specific medical diagnoses or treatment plans\n",
    "                        8. Focus on general wellness, fitness, and healthy lifestyle choices'''\n",
    "        )\n",
    "        print(f\"✓ Created health advisor agent, ID: {agent.id}\")\n",
    "        return agent\n",
    "    except Exception as e:\n",
    "        print(f\"× Error creating agent: {str(e)}\")\n",
    "        return None\n",
    "\n",
    "# Create the agent\n",
    "agent = create_health_advisor()"
   ]
  },
  {
   "cell_type": "markdown",
   "id": "216a23af",
   "metadata": {},
   "source": [
    "## Example Health Queries\n",
    "                \n",
    "The following examples demonstrate proper health and fitness guidance with appropriate disclaimers:\n",
    "1. BMI Calculation and Interpretation\n",
    "2. Nutritional Guidance for Active Lifestyle\n",
    "3. Heart Rate Zone Training\n",
    "                "
   ]
  },
  {
   "cell_type": "code",
   "execution_count": null,
   "id": "72b21333",
   "metadata": {},
   "outputs": [],
   "source": [
    "# Example health query\n",
    "message = project_client.agents.create_message(\n",
    "    thread_id=thread.id,\n",
    "    role=\"user\",\n",
    "    content=\"How do I calculate my BMI and what does it mean for my fitness goals?\"\n",
    ")\n",
    "\n",
    "# Process the query\n",
    "if thread and agent:\n",
    "    run = process_health_query(thread.id, agent.id)\n",
    "    view_health_advice(thread.id)"
   ]
  },
  {
   "cell_type": "code",
   "execution_count": null,
   "id": "01a69fe7",
   "metadata": {},
   "outputs": [],
   "source": [
    "# Nutritional guidance query\n",
    "message = project_client.agents.create_message(\n",
    "    thread_id=thread.id,\n",
    "    role=\"user\",\n",
    "    content=\"What's a balanced meal plan for an active lifestyle with regular exercise?\"\n",
    ")\n",
    "\n",
    "# Process the query\n",
    "if thread and agent:\n",
    "    run = process_health_query(thread.id, agent.id)\n",
    "    view_health_advice(thread.id)"
   ]
  },
  {
   "cell_type": "markdown",
   "id": "25a18157",
   "metadata": {},
   "source": [
    "## Managing Conversations\n",
    "\n",
    "Create a thread for health-related conversations:"
   ]
  },
  {
   "cell_type": "code",
   "execution_count": null,
   "id": "105f2c77",
   "metadata": {},
   "outputs": [],
   "source": [
    "def start_health_conversation():\n",
    "    \"\"\"Create a thread for health-related discussions.\"\"\"\n",
    "    try:\n",
    "        # Create thread\n",
    "        thread = project_client.agents.create_thread()\n",
    "        print(f\"✓ Created conversation thread, ID: {thread.id}\")\n",
    "        \n",
    "        # Example health query\n",
    "        message = project_client.agents.create_message(\n",
    "            thread_id=thread.id,\n",
    "            role=\"user\",\n",
    "            content=\"What are some healthy breakfast options for someone with diabetes?\"\n",
    "        )\n",
    "        print(f\"✓ Created message, ID: {message.id}\")\n",
    "        \n",
    "        return thread, message\n",
    "    except Exception as e:\n",
    "        print(f\"× Error starting conversation: {str(e)}\")\n",
    "        return None, None\n",
    "\n",
    "# Start a conversation\n",
    "thread, message = start_health_conversation()"
   ]
  },
  {
   "cell_type": "markdown",
   "id": "5ee0bfa8",
   "metadata": {},
   "source": [
    "## Processing Health Queries\n",
    "\n",
    "Process the health-related query and get agent's response:"
   ]
  },
  {
   "cell_type": "code",
   "execution_count": null,
   "id": "8519fa1d",
   "metadata": {},
   "outputs": [],
   "source": [
    "def process_health_query(thread_id, assistant_id):\n",
    "    \"\"\"Process a health query and get agent's response.\"\"\"\n",
    "    try:\n",
    "        # Create and process run\n",
    "        run = project_client.agents.create_run(\n",
    "            thread_id=thread_id,\n",
    "            assistant_id=assistant_id\n",
    "        )\n",
    "        \n",
    "        # Poll the run status\n",
    "        while run.status in [\"queued\", \"in_progress\", \"requires_action\"]:\n",
    "            time.sleep(1)\n",
    "            run = project_client.agents.get_run(\n",
    "                thread_id=thread_id,\n",
    "                run_id=run.id\n",
    "            )\n",
    "            print(f\"Run status: {run.status}\")\n",
    "        \n",
    "        return run\n",
    "    except Exception as e:\n",
    "        print(f\"× Error processing query: {str(e)}\")\n",
    "        return None\n",
    "\n",
    "# Process the query if thread and agent were created successfully\n",
    "if thread and agent:\n",
    "    run = process_health_query(thread.id, agent.id)"
   ]
  },
  {
   "cell_type": "markdown",
   "id": "844611ef",
   "metadata": {},
   "source": [
    "## Viewing Health Advice Responses\n",
    "\n",
    "Review the agent's health advice responses:"
   ]
  },
  {
   "cell_type": "code",
   "execution_count": null,
   "id": "b036661e",
   "metadata": {},
   "outputs": [],
   "source": [
    "def view_health_advice(thread_id):\n",
    "    \"\"\"View health advice responses in the conversation.\"\"\"\n",
    "    try:\n",
    "        # List messages\n",
    "        messages = project_client.agents.list_messages(thread_id=thread_id)\n",
    "        \n",
    "        print(\"Conversation History:\")\n",
    "        for data_point in reversed(messages.data):\n",
    "            last_message_content = data_point.content[-1]\n",
    "            if isinstance(last_message_content, MessageTextContent):\n",
    "                print(f\"{data_point.role}: {last_message_content.text.value}\")\n",
    "                \n",
    "    except Exception as e:\n",
    "        print(f\"× Error viewing advice: {str(e)}\")\n",
    "\n",
    "# View the conversation if thread was created\n",
    "if thread:\n",
    "    view_health_advice(thread.id)"
   ]
  },
  {
   "cell_type": "markdown",
   "id": "00ca1b24",
   "metadata": {},
   "source": [
    "## Cleanup\n",
    "\n",
    "Clean up resources when done:"
   ]
  },
  {
   "cell_type": "code",
   "execution_count": null,
   "id": "a7de639c",
   "metadata": {},
   "outputs": [],
   "source": [
    "def cleanup_resources():\n",
    "    \"\"\"Clean up the agent when done.\"\"\"\n",
    "    try:\n",
    "        if agent:\n",
    "            project_client.agents.delete_agent(agent.id)\n",
    "            print(\"✓ Deleted health advisor agent\")\n",
    "    except Exception as e:\n",
    "        print(f\"× Error during cleanup: {str(e)}\")\n",
    "\n",
    "# Uncomment to clean up resources\n",
    "# cleanup_resources()"
   ]
  },
  {
   "cell_type": "markdown",
   "id": "0cb643b0",
   "metadata": {},
   "source": [
    "## Best Practices\n",
    "\n",
    "1. **Health Advice Guidelines**\n",
    "   - Always include medical disclaimers\n",
    "   - Recommend professional consultation\n",
    "   - Be specific about restrictions\n",
    "   - Provide evidence-based information\n",
    "\n",
    "2. **Conversation Management**\n",
    "   - Handle sensitive topics appropriately\n",
    "   - Maintain context in conversations\n",
    "   - Implement proper error handling\n",
    "   - Monitor agent responses\n",
    "\n",
    "3. **Resource Management**\n",
    "   - Clean up unused resources\n",
    "   - Monitor usage and quotas\n",
    "   - Implement proper logging\n",
    "   - Regular performance reviews"
   ]
  }
 ],
 "metadata": {
  "kernelspec": {
   "display_name": ".venv",
   "language": "python",
   "name": "python3"
  },
  "language_info": {
   "codemirror_mode": {
    "name": "ipython",
    "version": 3
   },
   "file_extension": ".py",
   "mimetype": "text/x-python",
   "name": "python",
   "nbconvert_exporter": "python",
   "pygments_lexer": "ipython3",
   "version": "3.12.8"
  }
 },
 "nbformat": 4,
 "nbformat_minor": 5
}
