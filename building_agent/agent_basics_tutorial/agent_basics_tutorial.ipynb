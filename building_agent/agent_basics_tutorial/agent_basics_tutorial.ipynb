{
 "cells": [
  {
   "cell_type": "markdown",
   "id": "79d08cf6",
   "metadata": {},
   "source": [
    "# Basic Health Advisor Agent Tutorial\n",
    "\n",
    "This notebook demonstrates how to create a basic health advisor agent using Azure AI Foundry. You'll learn:\n",
    "1. Setting up a health advisor agent\n",
    "2. Managing agent conversations\n",
    "3. Handling health-related queries\n",
    "4. Implementing safety measures\n",
    "\n",
    "## Prerequisites\n",
    "- Azure subscription with AI services access\n",
    "- Python environment with required packages\n",
    "- Basic understanding of Azure AI concepts\n",
    "\n",
    "## Important Note\n",
    "Always include appropriate medical disclaimers and recommend consulting healthcare professionals for medical advice."
   ]
  },
  {
   "cell_type": "code",
   "execution_count": null,
   "id": "5ba3ae72",
   "metadata": {},
   "outputs": [],
   "source": [
    "# Import required libraries\n",
    "from azure.identity import DefaultAzureCredential\n",
    "from azure.ai.projects import AIProjectClient\n",
    "from azure.ai.projects.models import MessageTextContent\n",
    "import os\n",
    "import time\n",
    "\n",
    "# Initialize client\n",
    "try:\n",
    "    project_client = AIProjectClient.from_connection_string(\n",
    "        credential=DefaultAzureCredential(),\n",
    "        conn_str=os.environ[\"PROJECT_CONNECTION_STRING\"],\n",
    "    )\n",
    "    print(\"✓ Successfully initialized AIProjectClient\")\n",
    "except Exception as e:\n",
    "    print(f\"× Error initializing client: {str(e)}\")"
   ]
  },
  {
   "cell_type": "markdown",
   "id": "f8a35f5f",
   "metadata": {},
   "source": [
    "## Creating a Health Advisor Agent\n",
    "\n",
    "Let's create an agent specialized in providing health and dietary advice:"
   ]
  },
  {
   "cell_type": "code",
   "execution_count": null,
   "id": "194eceb1",
   "metadata": {},
   "outputs": [],
   "source": [
    "def create_health_advisor():\n",
    "    \"\"\"Create a health advisor agent with appropriate instructions.\"\"\"\n",
    "    try:\n",
    "        agent = project_client.agents.create_agent(\n",
    "            model=os.environ[\"MODEL_DEPLOYMENT_NAME\"],\n",
    "            name=\"health-advisor\",\n",
    "            instructions='''You are a knowledgeable health advisor. Important guidelines:\n",
    "            1. Always include appropriate health disclaimers\n",
    "            2. Recommend consulting healthcare professionals for medical advice\n",
    "            3. Be specific about food allergies and restrictions\n",
    "            4. Provide evidence-based nutritional guidance\n",
    "            5. Clearly explain BMI calculations and interpretations'''\n",
    "        )\n",
    "        print(f\"✓ Created health advisor agent, ID: {agent.id}\")\n",
    "        return agent\n",
    "    except Exception as e:\n",
    "        print(f\"× Error creating agent: {str(e)}\")\n",
    "        return None\n",
    "\n",
    "# Create the agent\n",
    "agent = create_health_advisor()"
   ]
  },
  {
   "cell_type": "markdown",
   "id": "25a18157",
   "metadata": {},
   "source": [
    "## Managing Conversations\n",
    "\n",
    "Create a thread for health-related conversations:"
   ]
  },
  {
   "cell_type": "code",
   "execution_count": null,
   "id": "105f2c77",
   "metadata": {},
   "outputs": [],
   "source": [
    "def start_health_conversation():\n",
    "    \"\"\"Create a thread for health-related discussions.\"\"\"\n",
    "    try:\n",
    "        # Create thread\n",
    "        thread = project_client.agents.create_thread()\n",
    "        print(f\"✓ Created conversation thread, ID: {thread.id}\")\n",
    "        \n",
    "        # Example health query\n",
    "        message = project_client.agents.create_message(\n",
    "            thread_id=thread.id,\n",
    "            role=\"user\",\n",
    "            content=\"What are some healthy breakfast options for someone with diabetes?\"\n",
    "        )\n",
    "        print(f\"✓ Created message, ID: {message.id}\")\n",
    "        \n",
    "        return thread, message\n",
    "    except Exception as e:\n",
    "        print(f\"× Error starting conversation: {str(e)}\")\n",
    "        return None, None\n",
    "\n",
    "# Start a conversation\n",
    "thread, message = start_health_conversation()"
   ]
  },
  {
   "cell_type": "markdown",
   "id": "5ee0bfa8",
   "metadata": {},
   "source": [
    "## Processing Health Queries\n",
    "\n",
    "Process the health-related query and get agent's response:"
   ]
  },
  {
   "cell_type": "code",
   "execution_count": null,
   "id": "8519fa1d",
   "metadata": {},
   "outputs": [],
   "source": [
    "def process_health_query(thread_id, assistant_id):\n",
    "    \"\"\"Process a health query and get agent's response.\"\"\"\n",
    "    try:\n",
    "        # Create and process run\n",
    "        run = project_client.agents.create_run(\n",
    "            thread_id=thread_id,\n",
    "            assistant_id=assistant_id\n",
    "        )\n",
    "        \n",
    "        # Poll the run status\n",
    "        while run.status in [\"queued\", \"in_progress\", \"requires_action\"]:\n",
    "            time.sleep(1)\n",
    "            run = project_client.agents.get_run(\n",
    "                thread_id=thread_id,\n",
    "                run_id=run.id\n",
    "            )\n",
    "            print(f\"Run status: {run.status}\")\n",
    "        \n",
    "        return run\n",
    "    except Exception as e:\n",
    "        print(f\"× Error processing query: {str(e)}\")\n",
    "        return None\n",
    "\n",
    "# Process the query if thread and agent were created successfully\n",
    "if thread and agent:\n",
    "    run = process_health_query(thread.id, agent.id)"
   ]
  },
  {
   "cell_type": "markdown",
   "id": "844611ef",
   "metadata": {},
   "source": [
    "## Viewing Health Advice Responses\n",
    "\n",
    "Review the agent's health advice responses:"
   ]
  },
  {
   "cell_type": "code",
   "execution_count": null,
   "id": "b036661e",
   "metadata": {},
   "outputs": [],
   "source": [
    "def view_health_advice(thread_id):\n",
    "    \"\"\"View health advice responses in the conversation.\"\"\"\n",
    "    try:\n",
    "        # List messages\n",
    "        messages = project_client.agents.list_messages(thread_id=thread_id)\n",
    "        \n",
    "        print(\"\n",
    "Conversation History:\")\n",
    "        for data_point in reversed(messages.data):\n",
    "            last_message_content = data_point.content[-1]\n",
    "            if isinstance(last_message_content, MessageTextContent):\n",
    "                print(f\"{data_point.role}: {last_message_content.text.value}\")\n",
    "                \n",
    "    except Exception as e:\n",
    "        print(f\"× Error viewing advice: {str(e)}\")\n",
    "\n",
    "# View the conversation if thread was created\n",
    "if thread:\n",
    "    view_health_advice(thread.id)"
   ]
  },
  {
   "cell_type": "markdown",
   "id": "00ca1b24",
   "metadata": {},
   "source": [
    "## Cleanup\n",
    "\n",
    "Clean up resources when done:"
   ]
  },
  {
   "cell_type": "code",
   "execution_count": null,
   "id": "a7de639c",
   "metadata": {},
   "outputs": [],
   "source": [
    "def cleanup_resources():\n",
    "    \"\"\"Clean up the agent when done.\"\"\"\n",
    "    try:\n",
    "        if agent:\n",
    "            project_client.agents.delete_agent(agent.id)\n",
    "            print(\"✓ Deleted health advisor agent\")\n",
    "    except Exception as e:\n",
    "        print(f\"× Error during cleanup: {str(e)}\")\n",
    "\n",
    "# Uncomment to clean up resources\n",
    "# cleanup_resources()"
   ]
  },
  {
   "cell_type": "markdown",
   "id": "0cb643b0",
   "metadata": {},
   "source": [
    "## Best Practices\n",
    "\n",
    "1. **Health Advice Guidelines**\n",
    "   - Always include medical disclaimers\n",
    "   - Recommend professional consultation\n",
    "   - Be specific about restrictions\n",
    "   - Provide evidence-based information\n",
    "\n",
    "2. **Conversation Management**\n",
    "   - Handle sensitive topics appropriately\n",
    "   - Maintain context in conversations\n",
    "   - Implement proper error handling\n",
    "   - Monitor agent responses\n",
    "\n",
    "3. **Resource Management**\n",
    "   - Clean up unused resources\n",
    "   - Monitor usage and quotas\n",
    "   - Implement proper logging\n",
    "   - Regular performance reviews"
   ]
  }
 ],
 "metadata": {},
 "nbformat": 4,
 "nbformat_minor": 5
}
