{
 "cells": [
  {
   "cell_type": "markdown",
   "id": "9a522d30",
   "metadata": {},
   "source": [
    "# Azure AI Projects SDK Tutorial\n",
    "\n",
    "This notebook demonstrates how to use the Azure AI Projects SDK for health and dietary applications.\n",
    "\n",
    "## Prerequisites\n",
    "- Azure subscription with AI services access\n",
    "- Python environment with required packages\n",
    "- Basic understanding of Azure AI concepts\n",
    "\n",
    "## What You'll Learn\n",
    "- Creating and managing AI projects\n",
    "- Configuring project settings\n",
    "- Managing resources\n",
    "- Best practices for health applications"
   ]
  },
  {
   "cell_type": "code",
   "execution_count": null,
   "id": "28fa5b3e",
   "metadata": {},
   "outputs": [],
   "source": [
    "# Import required libraries\n",
    "from azure.identity import DefaultAzureCredential\n",
    "from azure.ai.projects import AIProjectClient\n",
    "import os\n",
    "import json\n",
    "from datetime import datetime\n",
    "\n",
    "# Check environment setup\n",
    "try:\n",
    "    # Initialize credentials\n",
    "    credential = DefaultAzureCredential()\n",
    "    \n",
    "    # Create client\n",
    "    client = AIProjectClient(\n",
    "        subscription_id=os.getenv(\"AZURE_SUBSCRIPTION_ID\"),\n",
    "        resource_group=os.getenv(\"AZURE_RESOURCE_GROUP\"),\n",
    "        credential=credential\n",
    "    )\n",
    "    print(\"✓ Successfully initialized AIProjectClient\")\n",
    "except Exception as e:\n",
    "    print(f\"× Error initializing client: {str(e)}\")"
   ]
  },
  {
   "cell_type": "markdown",
   "id": "8116e70a",
   "metadata": {},
   "source": [
    "## Creating a Health Advisor Project\n",
    "\n",
    "Let's create a project for health and dietary advice:"
   ]
  },
  {
   "cell_type": "code",
   "execution_count": null,
   "id": "cf9c2c70",
   "metadata": {},
   "outputs": [],
   "source": [
    "def create_health_project():\n",
    "    \"\"\"Create a new health advisor project.\"\"\"\n",
    "    try:\n",
    "        # Create project\n",
    "        project = client.projects.create(\n",
    "            name=f\"health-advisor-{datetime.now().strftime('%Y%m%d-%H%M%S')}\",\n",
    "            description=\"AI-powered health and dietary advice project\",\n",
    "            tags={\n",
    "                \"domain\": \"healthcare\",\n",
    "                \"features\": \"dietary-planning,health-advice\",\n",
    "                \"environment\": \"development\"\n",
    "            }\n",
    "        )\n",
    "        print(f\"✓ Created project: {project.name}\")\n",
    "        return project\n",
    "    except Exception as e:\n",
    "        print(f\"× Error creating project: {str(e)}\")\n",
    "        return None\n",
    "\n",
    "# Create the project\n",
    "project = create_health_project()"
   ]
  },
  {
   "cell_type": "markdown",
   "id": "67fcc7f8",
   "metadata": {},
   "source": [
    "## Configuring Project Settings\n",
    "\n",
    "Configure the project with health-specific settings:"
   ]
  },
  {
   "cell_type": "code",
   "execution_count": null,
   "id": "c2a0fc4b",
   "metadata": {},
   "outputs": [],
   "source": [
    "def configure_health_project(project):\n",
    "    \"\"\"Configure health project settings.\"\"\"\n",
    "    if not project:\n",
    "        print(\"× No project to configure\")\n",
    "        return\n",
    "    \n",
    "    try:\n",
    "        # Update project settings\n",
    "        project = client.projects.update(\n",
    "            project_name=project.name,\n",
    "            settings={\n",
    "                \"deployment\": {\n",
    "                    \"environment\": \"development\",\n",
    "                    \"region\": \"eastus\",\n",
    "                    \"sku\": \"standard\"\n",
    "                },\n",
    "                \"monitoring\": {\n",
    "                    \"metrics_enabled\": True,\n",
    "                    \"logging_level\": \"INFO\"\n",
    "                },\n",
    "                \"safety\": {\n",
    "                    \"content_filtering\": True,\n",
    "                    \"medical_disclaimer_required\": True\n",
    "                }\n",
    "            }\n",
    "        )\n",
    "        print(\"✓ Successfully configured project settings\")\n",
    "    except Exception as e:\n",
    "        print(f\"× Error configuring project: {str(e)}\")\n",
    "\n",
    "# Configure the project\n",
    "if project:\n",
    "    configure_health_project(project)"
   ]
  },
  {
   "cell_type": "markdown",
   "id": "a7102223",
   "metadata": {},
   "source": [
    "## Managing Project Resources\n",
    "\n",
    "View and manage resources in your health advisor project:"
   ]
  },
  {
   "cell_type": "code",
   "execution_count": null,
   "id": "2613675e",
   "metadata": {},
   "outputs": [],
   "source": [
    "def list_project_resources(project_name):\n",
    "    \"\"\"List resources in the project.\"\"\"\n",
    "    try:\n",
    "        resources = client.projects.list_resources(project_name=project_name)\n",
    "        print(\"\n",
    "Project Resources:\")\n",
    "        for resource in resources:\n",
    "            print(f\"- {resource.name} ({resource.type})\")\n",
    "    except Exception as e:\n",
    "        print(f\"× Error listing resources: {str(e)}\")\n",
    "\n",
    "# List resources if project was created\n",
    "if project:\n",
    "    list_project_resources(project.name)"
   ]
  },
  {
   "cell_type": "markdown",
   "id": "dadd68fc",
   "metadata": {},
   "source": [
    "## Best Practices\n",
    "\n",
    "1. **Project Organization**\n",
    "   - Use descriptive names\n",
    "   - Implement proper tagging\n",
    "   - Regular resource cleanup\n",
    "   - Monitor usage\n",
    "\n",
    "2. **Security**\n",
    "   - Implement role-based access\n",
    "   - Regular security reviews\n",
    "   - Monitor access patterns\n",
    "\n",
    "3. **Health Data Handling**\n",
    "   - Include medical disclaimers\n",
    "   - Implement content safety\n",
    "   - Regular compliance checks"
   ]
  }
 ],
 "metadata": {},
 "nbformat": 4,
 "nbformat_minor": 5
}
