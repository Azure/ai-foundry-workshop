{
 "cells": [
  {
   "cell_type": "markdown",
   "id": "07af3195",
   "metadata": {},
   "source": [
    "# Azure AI Evaluation SDK Tutorial\n",
    "\n",
    "This notebook demonstrates how to evaluate health and dietary advice using the Azure AI Evaluation SDK.\n",
    "\n",
    "## Prerequisites\n",
    "- Azure subscription with AI services access\n",
    "- Python environment with required packages\n",
    "- Basic understanding of Azure AI concepts\n",
    "\n",
    "## What You'll Learn\n",
    "- Initializing the evaluation client\n",
    "- Evaluating health recommendations\n",
    "- Analyzing evaluation results\n",
    "- Best practices for health advice evaluation"
   ]
  },
  {
   "cell_type": "code",
   "execution_count": null,
   "id": "8efd7f5b",
   "metadata": {},
   "outputs": [],
   "source": [
    "# Import required libraries\n",
    "from azure.identity import DefaultAzureCredential\n",
    "from azure.ai.evaluation import TextEvaluator\n",
    "import os\n",
    "import json\n",
    "\n",
    "# Initialize evaluator\n",
    "try:\n",
    "    evaluator = TextEvaluator(credential=DefaultAzureCredential())\n",
    "    print(\"✓ Successfully initialized TextEvaluator\")\n",
    "except Exception as e:\n",
    "    print(f\"× Error initializing evaluator: {str(e)}\")"
   ]
  },
  {
   "cell_type": "markdown",
   "id": "bc50b72e",
   "metadata": {},
   "source": [
    "## Evaluating Health Advice\n",
    "\n",
    "Let's evaluate some health recommendations:"
   ]
  },
  {
   "cell_type": "code",
   "execution_count": null,
   "id": "9b5a7e65",
   "metadata": {},
   "outputs": [],
   "source": [
    "async def evaluate_health_advice(text: str):\n",
    "    \"\"\"Evaluate health-related advice.\"\"\"\n",
    "    try:\n",
    "        evaluation = await evaluator.evaluate_text(\n",
    "            text=text,\n",
    "            criteria={\n",
    "                \"medical_accuracy\": \"Advice should be accurate and evidence-based\",\n",
    "                \"safety\": \"Advice should include appropriate disclaimers\",\n",
    "                \"clarity\": \"Explanations should be clear and easy to understand\"\n",
    "            }\n",
    "        )\n",
    "        return evaluation\n",
    "    except Exception as e:\n",
    "        return f\"Error evaluating advice: {str(e)}\"\n",
    "\n",
    "# Test health advice evaluation\n",
    "sample_advice = [\n",
    "    \"To manage type 2 diabetes, maintain a balanced diet low in refined carbohydrates. Always consult your healthcare provider before making significant dietary changes.\",\n",
    "    \"For weight management, combine regular exercise with a balanced diet. Monitor your progress and adjust as needed.\",\n",
    "    \"When dealing with food allergies, carefully read ingredient labels and avoid cross-contamination.\"\n",
    "]\n",
    "\n",
    "for advice in sample_advice:\n",
    "    print(f\"\n",
    "Evaluating advice: {advice}\")\n",
    "    result = await evaluate_health_advice(advice)\n",
    "    print(f\"Evaluation result: {result}\")"
   ]
  },
  {
   "cell_type": "markdown",
   "id": "06847ce2",
   "metadata": {},
   "source": [
    "## Custom Evaluation Criteria\n",
    "\n",
    "Create custom evaluation criteria for specific health scenarios:"
   ]
  },
  {
   "cell_type": "code",
   "execution_count": null,
   "id": "6855a1b7",
   "metadata": {},
   "outputs": [],
   "source": [
    "async def evaluate_dietary_plan(meal_plan: str):\n",
    "    \"\"\"Evaluate a dietary plan.\"\"\"\n",
    "    try:\n",
    "        evaluation = await evaluator.evaluate_text(\n",
    "            text=meal_plan,\n",
    "            criteria={\n",
    "                \"nutritional_balance\": \"Plan includes all essential food groups\",\n",
    "                \"portion_control\": \"Appropriate portion sizes are specified\",\n",
    "                \"dietary_restrictions\": \"Accounts for common allergies and restrictions\",\n",
    "                \"practicality\": \"Meals are practical to prepare\"\n",
    "            }\n",
    "        )\n",
    "        return evaluation\n",
    "    except Exception as e:\n",
    "        return f\"Error evaluating meal plan: {str(e)}\"\n",
    "\n",
    "# Test meal plan evaluation\n",
    "sample_plan = \"\"\"\n",
    "Breakfast: Oatmeal with berries and nuts (1 cup oats, 1/2 cup berries)\n",
    "Lunch: Grilled chicken salad with olive oil dressing\n",
    "Dinner: Baked salmon with quinoa and steamed vegetables\n",
    "Snacks: Apple slices with almond butter, Greek yogurt\n",
    "\"\"\"\n",
    "\n",
    "result = await evaluate_dietary_plan(sample_plan)\n",
    "print(f\"Meal Plan Evaluation: {result}\")"
   ]
  },
  {
   "cell_type": "markdown",
   "id": "92072bb5",
   "metadata": {},
   "source": [
    "## Best Practices\n",
    "\n",
    "1. **Evaluation Criteria**\n",
    "   - Use specific, measurable criteria\n",
    "   - Include safety considerations\n",
    "   - Consider medical accuracy\n",
    "   - Evaluate clarity and practicality\n",
    "\n",
    "2. **Result Analysis**\n",
    "   - Review all evaluation metrics\n",
    "   - Consider context\n",
    "   - Look for patterns\n",
    "   - Document findings\n",
    "\n",
    "3. **Continuous Improvement**\n",
    "   - Use feedback to improve advice\n",
    "   - Update evaluation criteria\n",
    "   - Monitor trends\n",
    "   - Maintain quality standards"
   ]
  }
 ],
 "metadata": {},
 "nbformat": 4,
 "nbformat_minor": 5
}
