{
 "cells": [
  {
   "cell_type": "markdown",
   "id": "2cd570a7",
   "metadata": {},
   "source": [
    "# Azure Identity SDK Tutorial\n",
    "\n",
    "This notebook demonstrates how to use Azure Identity for authentication in health applications.\n",
    "\n",
    "## Prerequisites\n",
    "- Azure subscription with AI services access\n",
    "- Python environment with required packages\n",
    "- Basic understanding of Azure AI concepts\n",
    "\n",
    "## What You'll Learn\n",
    "- Using DefaultAzureCredential\n",
    "- Managing authentication\n",
    "- Securing health applications\n",
    "- Best practices for identity"
   ]
  },
  {
   "cell_type": "code",
   "execution_count": null,
   "id": "3b7f3c3c",
   "metadata": {},
   "outputs": [],
   "source": [
    "# Import required libraries\n",
    "from azure.identity import DefaultAzureCredential, ClientSecretCredential\n",
    "import os\n",
    "import json\n",
    "\n",
    "# Initialize credentials\n",
    "try:\n",
    "    credential = DefaultAzureCredential()\n",
    "    print(\"✓ Successfully initialized DefaultAzureCredential\")\n",
    "except Exception as e:\n",
    "    print(f\"× Error initializing credentials: {str(e)}\")"
   ]
  },
  {
   "cell_type": "markdown",
   "id": "49f89c55",
   "metadata": {},
   "source": [
    "## Authentication Methods\n",
    "\n",
    "Explore different authentication methods:"
   ]
  },
  {
   "cell_type": "code",
   "execution_count": null,
   "id": "a9b3dc26",
   "metadata": {},
   "outputs": [],
   "source": [
    "def demonstrate_auth_methods():\n",
    "    \"\"\"Demonstrate different authentication methods.\"\"\"\n",
    "    try:\n",
    "        # Default credential\n",
    "        default_cred = DefaultAzureCredential()\n",
    "        print(\"✓ DefaultAzureCredential initialized\")\n",
    "        \n",
    "        # Client secret credential\n",
    "        client_secret_cred = ClientSecretCredential(\n",
    "            tenant_id=os.getenv(\"AZURE_TENANT_ID\"),\n",
    "            client_id=os.getenv(\"AZURE_CLIENT_ID\"),\n",
    "            client_secret=os.getenv(\"AZURE_CLIENT_SECRET\")\n",
    "        )\n",
    "        print(\"✓ ClientSecretCredential initialized\")\n",
    "        \n",
    "        return {\n",
    "            \"default\": default_cred,\n",
    "            \"client_secret\": client_secret_cred\n",
    "        }\n",
    "    except Exception as e:\n",
    "        print(f\"× Error demonstrating auth methods: {str(e)}\")\n",
    "        return None\n",
    "\n",
    "# Try different auth methods\n",
    "credentials = demonstrate_auth_methods()"
   ]
  },
  {
   "cell_type": "markdown",
   "id": "27c1bbfd",
   "metadata": {},
   "source": [
    "## Token Management\n",
    "\n",
    "Manage access tokens for health applications:"
   ]
  },
  {
   "cell_type": "code",
   "execution_count": null,
   "id": "349dbdb4",
   "metadata": {},
   "outputs": [],
   "source": [
    "async def manage_tokens():\n",
    "    \"\"\"Demonstrate token management.\"\"\"\n",
    "    try:\n",
    "        # Get token for Azure services\n",
    "        scope = \"https://management.azure.com/.default\"\n",
    "        token = await credential.get_token(scope)\n",
    "        \n",
    "        print(\"✓ Successfully acquired token\")\n",
    "        print(f\"Token expires in: {token.expires_on}\")\n",
    "        \n",
    "        return token\n",
    "    except Exception as e:\n",
    "        print(f\"× Error managing tokens: {str(e)}\")\n",
    "        return None\n",
    "\n",
    "# Get and manage tokens\n",
    "token = await manage_tokens()"
   ]
  },
  {
   "cell_type": "markdown",
   "id": "570cbb95",
   "metadata": {},
   "source": [
    "## Best Practices\n",
    "\n",
    "1. **Authentication**\n",
    "   - Use DefaultAzureCredential\n",
    "   - Implement proper error handling\n",
    "   - Secure credential storage\n",
    "   - Regular token rotation\n",
    "\n",
    "2. **Security**\n",
    "   - Follow least privilege\n",
    "   - Monitor access patterns\n",
    "   - Implement logging\n",
    "   - Regular audits\n",
    "\n",
    "3. **Health Applications**\n",
    "   - Secure patient data\n",
    "   - Implement RBAC\n",
    "   - Monitor access\n",
    "   - Regular reviews"
   ]
  }
 ],
 "metadata": {},
 "nbformat": 4,
 "nbformat_minor": 5
}
